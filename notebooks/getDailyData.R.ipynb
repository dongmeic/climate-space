{
 "cells": [
  {
   "cell_type": "code",
   "execution_count": 3,
   "metadata": {
    "collapsed": false
   },
   "outputs": [
    {
     "data": {
      "text/html": [
       "'/Users/dsp/dongmei/climate-space/notebooks'"
      ],
      "text/latex": [
       "'/Users/dsp/dongmei/climate-space/notebooks'"
      ],
      "text/markdown": [
       "'/Users/dsp/dongmei/climate-space/notebooks'"
      ],
      "text/plain": [
       "[1] \"/Users/dsp/dongmei/climate-space/notebooks\""
      ]
     },
     "metadata": {},
     "output_type": "display_data"
    },
    {
     "data": {
      "text/html": [],
      "text/latex": [],
      "text/markdown": [],
      "text/plain": [
       "character(0)"
      ]
     },
     "metadata": {},
     "output_type": "display_data"
    }
   ],
   "source": [
    "getwd() # working directory \n",
    "ls()    # currently nothing in my R workspace"
   ]
  },
  {
   "cell_type": "code",
   "execution_count": 4,
   "metadata": {
    "collapsed": false
   },
   "outputs": [
    {
     "data": {
      "text/html": [
       "<ol class=list-inline>\n",
       "\t<li>'get.a.j'</li>\n",
       "\t<li>'get.a.nought'</li>\n",
       "\t<li>'get.b.j'</li>\n",
       "\t<li>'get.daily.from.monthly'</li>\n",
       "\t<li>'interpolate.daily'</li>\n",
       "</ol>\n"
      ],
      "text/latex": [
       "\\begin{enumerate*}\n",
       "\\item 'get.a.j'\n",
       "\\item 'get.a.nought'\n",
       "\\item 'get.b.j'\n",
       "\\item 'get.daily.from.monthly'\n",
       "\\item 'interpolate.daily'\n",
       "\\end{enumerate*}\n"
      ],
      "text/markdown": [
       "1. 'get.a.j'\n",
       "2. 'get.a.nought'\n",
       "3. 'get.b.j'\n",
       "4. 'get.daily.from.monthly'\n",
       "5. 'interpolate.daily'\n",
       "\n",
       "\n"
      ],
      "text/plain": [
       "[1] \"get.a.j\"                \"get.a.nought\"           \"get.b.j\"               \n",
       "[4] \"get.daily.from.monthly\" \"interpolate.daily\"     "
      ]
     },
     "metadata": {},
     "output_type": "display_data"
    }
   ],
   "source": [
    "source('../R/damian/getPseudoDaily.R')  # load .R source file\n",
    "\n",
    "# now the functions/objects in the file are available\n",
    "ls()                                    "
   ]
  },
  {
   "cell_type": "code",
   "execution_count": null,
   "metadata": {
    "collapsed": true
   },
   "outputs": [],
   "source": []
  }
 ],
 "metadata": {
  "kernelspec": {
   "display_name": "R",
   "language": "R",
   "name": "ir"
  },
  "language_info": {
   "codemirror_mode": "r",
   "file_extension": ".r",
   "mimetype": "text/x-r-source",
   "name": "R",
   "pygments_lexer": "r",
   "version": "3.5.0"
  }
 },
 "nbformat": 4,
 "nbformat_minor": 0
}
