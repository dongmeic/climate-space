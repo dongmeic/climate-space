{
 "cells": [
  {
   "cell_type": "code",
   "execution_count": 1,
   "metadata": {
    "collapsed": true
   },
   "outputs": [],
   "source": [
    "import os\n",
    "import re\n",
    "\n",
    "import numpy as np\n",
    "import pandas as pd"
   ]
  },
  {
   "cell_type": "code",
   "execution_count": 36,
   "metadata": {
    "collapsed": false
   },
   "outputs": [
    {
     "data": {
      "text/plain": [
       "['input_data_1998.csv']"
      ]
     },
     "execution_count": 36,
     "metadata": {},
     "output_type": "execute_result"
    }
   ],
   "source": [
    "DATA_DIR = '../DATA'\n",
    "OUTPUT_DIR = '%s/Xy_internal_split_data' % DATA_DIR\n",
    "FILE_FORMAT = r'input_data_[0-9]{4}\\.csv$'\n",
    "input_files = [f for f in os.listdir(DATA_DIR) \n",
    "               if re.match(FILE_FORMAT, f)]\n",
    "input_files"
   ]
  },
  {
   "cell_type": "code",
   "execution_count": 30,
   "metadata": {
    "collapsed": false
   },
   "outputs": [
    {
     "name": "stdout",
     "output_type": "stream",
     "text": [
      "1998\n"
     ]
    },
    {
     "data": {
      "text/html": [
       "<div>\n",
       "<table border=\"1\" class=\"dataframe\">\n",
       "  <thead>\n",
       "    <tr style=\"text-align: right;\">\n",
       "      <th></th>\n",
       "      <th>btl_t</th>\n",
       "      <th>x</th>\n",
       "      <th>y</th>\n",
       "      <th>lon</th>\n",
       "      <th>lat</th>\n",
       "      <th>etopo1</th>\n",
       "      <th>btl_t1</th>\n",
       "      <th>btl_t2</th>\n",
       "      <th>vgt</th>\n",
       "      <th>age</th>\n",
       "      <th>...</th>\n",
       "      <th>summerP2</th>\n",
       "      <th>Pmean</th>\n",
       "      <th>POctSep</th>\n",
       "      <th>PcumOctSep</th>\n",
       "      <th>PPT</th>\n",
       "      <th>drop0</th>\n",
       "      <th>drop5</th>\n",
       "      <th>ddAugJul</th>\n",
       "      <th>ddAugJun</th>\n",
       "      <th>year</th>\n",
       "    </tr>\n",
       "  </thead>\n",
       "  <tbody>\n",
       "    <tr>\n",
       "      <th>0</th>\n",
       "      <td>0</td>\n",
       "      <td>2690000</td>\n",
       "      <td>-4510000</td>\n",
       "      <td>-77.292019</td>\n",
       "      <td>5.124395</td>\n",
       "      <td>67</td>\n",
       "      <td>0</td>\n",
       "      <td>0</td>\n",
       "      <td>0</td>\n",
       "      <td>0</td>\n",
       "      <td>...</td>\n",
       "      <td>3002.060034</td>\n",
       "      <td>434.518054</td>\n",
       "      <td>5915.816675</td>\n",
       "      <td>11886.133334</td>\n",
       "      <td>35787.400305</td>\n",
       "      <td>73</td>\n",
       "      <td>16</td>\n",
       "      <td>9612.244141</td>\n",
       "      <td>8780.226562</td>\n",
       "      <td>1998</td>\n",
       "    </tr>\n",
       "    <tr>\n",
       "      <th>1</th>\n",
       "      <td>0</td>\n",
       "      <td>2700000</td>\n",
       "      <td>-4510000</td>\n",
       "      <td>-77.208582</td>\n",
       "      <td>5.099891</td>\n",
       "      <td>61</td>\n",
       "      <td>0</td>\n",
       "      <td>0</td>\n",
       "      <td>0</td>\n",
       "      <td>0</td>\n",
       "      <td>...</td>\n",
       "      <td>3052.161845</td>\n",
       "      <td>447.904489</td>\n",
       "      <td>6051.102149</td>\n",
       "      <td>12214.262818</td>\n",
       "      <td>36553.805033</td>\n",
       "      <td>73</td>\n",
       "      <td>16</td>\n",
       "      <td>9715.162109</td>\n",
       "      <td>8873.277344</td>\n",
       "      <td>1998</td>\n",
       "    </tr>\n",
       "    <tr>\n",
       "      <th>2</th>\n",
       "      <td>0</td>\n",
       "      <td>2710000</td>\n",
       "      <td>-4510000</td>\n",
       "      <td>-77.125153</td>\n",
       "      <td>5.075297</td>\n",
       "      <td>67</td>\n",
       "      <td>0</td>\n",
       "      <td>0</td>\n",
       "      <td>0</td>\n",
       "      <td>0</td>\n",
       "      <td>...</td>\n",
       "      <td>3069.528098</td>\n",
       "      <td>455.863507</td>\n",
       "      <td>6158.877756</td>\n",
       "      <td>12404.550359</td>\n",
       "      <td>37061.989844</td>\n",
       "      <td>59</td>\n",
       "      <td>30</td>\n",
       "      <td>9726.484375</td>\n",
       "      <td>8884.317383</td>\n",
       "      <td>1998</td>\n",
       "    </tr>\n",
       "    <tr>\n",
       "      <th>3</th>\n",
       "      <td>0</td>\n",
       "      <td>2720000</td>\n",
       "      <td>-4510000</td>\n",
       "      <td>-77.041733</td>\n",
       "      <td>5.050615</td>\n",
       "      <td>26</td>\n",
       "      <td>0</td>\n",
       "      <td>0</td>\n",
       "      <td>0</td>\n",
       "      <td>0</td>\n",
       "      <td>...</td>\n",
       "      <td>3098.452174</td>\n",
       "      <td>466.844118</td>\n",
       "      <td>6302.817738</td>\n",
       "      <td>12666.490204</td>\n",
       "      <td>37755.201136</td>\n",
       "      <td>56</td>\n",
       "      <td>33</td>\n",
       "      <td>9827.635742</td>\n",
       "      <td>8975.438477</td>\n",
       "      <td>1998</td>\n",
       "    </tr>\n",
       "    <tr>\n",
       "      <th>4</th>\n",
       "      <td>0</td>\n",
       "      <td>2730000</td>\n",
       "      <td>-4510000</td>\n",
       "      <td>-76.958322</td>\n",
       "      <td>5.025843</td>\n",
       "      <td>43</td>\n",
       "      <td>0</td>\n",
       "      <td>0</td>\n",
       "      <td>0</td>\n",
       "      <td>0</td>\n",
       "      <td>...</td>\n",
       "      <td>3056.942266</td>\n",
       "      <td>468.097308</td>\n",
       "      <td>6329.933573</td>\n",
       "      <td>12694.101486</td>\n",
       "      <td>37835.465638</td>\n",
       "      <td>52</td>\n",
       "      <td>37</td>\n",
       "      <td>9743.973633</td>\n",
       "      <td>8900.458984</td>\n",
       "      <td>1998</td>\n",
       "    </tr>\n",
       "  </tbody>\n",
       "</table>\n",
       "<p>5 rows × 40 columns</p>\n",
       "</div>"
      ],
      "text/plain": [
       "   btl_t        x        y        lon       lat  etopo1  btl_t1  btl_t2  vgt  \\\n",
       "0      0  2690000 -4510000 -77.292019  5.124395      67       0       0    0   \n",
       "1      0  2700000 -4510000 -77.208582  5.099891      61       0       0    0   \n",
       "2      0  2710000 -4510000 -77.125153  5.075297      67       0       0    0   \n",
       "3      0  2720000 -4510000 -77.041733  5.050615      26       0       0    0   \n",
       "4      0  2730000 -4510000 -76.958322  5.025843      43       0       0    0   \n",
       "\n",
       "   age  ...      summerP2       Pmean      POctSep    PcumOctSep  \\\n",
       "0    0  ...   3002.060034  434.518054  5915.816675  11886.133334   \n",
       "1    0  ...   3052.161845  447.904489  6051.102149  12214.262818   \n",
       "2    0  ...   3069.528098  455.863507  6158.877756  12404.550359   \n",
       "3    0  ...   3098.452174  466.844118  6302.817738  12666.490204   \n",
       "4    0  ...   3056.942266  468.097308  6329.933573  12694.101486   \n",
       "\n",
       "            PPT  drop0  drop5     ddAugJul     ddAugJun  year  \n",
       "0  35787.400305     73     16  9612.244141  8780.226562  1998  \n",
       "1  36553.805033     73     16  9715.162109  8873.277344  1998  \n",
       "2  37061.989844     59     30  9726.484375  8884.317383  1998  \n",
       "3  37755.201136     56     33  9827.635742  8975.438477  1998  \n",
       "4  37835.465638     52     37  9743.973633  8900.458984  1998  \n",
       "\n",
       "[5 rows x 40 columns]"
      ]
     },
     "execution_count": 30,
     "metadata": {},
     "output_type": "execute_result"
    }
   ],
   "source": [
    "file_path = '%s/%s' % (DATA_DIR, input_files[0])\n",
    "year = file_path.split('_')[-1].replace('.csv', '')\n",
    "print(year)\n",
    "dat = pd.read_csv(file_path)\n",
    "dat.head()"
   ]
  },
  {
   "cell_type": "code",
   "execution_count": 4,
   "metadata": {
    "collapsed": false
   },
   "outputs": [
    {
     "name": "stdout",
     "output_type": "stream",
     "text": [
      "X range: [-5730000, 5000000]\n",
      "Y range: [-4510000, 4480000]\n"
     ]
    }
   ],
   "source": [
    "print('X range: [%d, %d]' % (dat.x.min(), dat.x.max()))\n",
    "print('Y range: [%d, %d]' % (dat.y.min(), dat.y.max()))"
   ]
  },
  {
   "cell_type": "code",
   "execution_count": 5,
   "metadata": {
    "collapsed": true
   },
   "outputs": [],
   "source": [
    "def convert_data_to_0_base(data, cell_dim):\n",
    "    data.x = ((data.x - min(data.x)) / cell_dim).astype(int)\n",
    "    data.y = ((data.y - min(data.y)) / cell_dim).astype(int)\n",
    "    return data"
   ]
  },
  {
   "cell_type": "code",
   "execution_count": 6,
   "metadata": {
    "collapsed": true
   },
   "outputs": [],
   "source": [
    "def get_proportional_internal_block(height, width, proportion):\n",
    "    n = height * width\n",
    "    n_block = int(round(n * proportion))\n",
    "    #print('n total: %d, n block %d' % (n, n_block))\n",
    "    #scaler = np.sqrt(n_block / (height * width))\n",
    "    #h_block = int(round(height * scaler))\n",
    "    #w_block = int(round(width * scaler))\n",
    "    h_block = int(proportion * height)\n",
    "    w_block = int(proportion * width)\n",
    "    x_offset = (width - w_block) // 2\n",
    "    y_offset = (height - h_block) // 2\n",
    "    deficit = n_block - (h_block * w_block)\n",
    "    x_range = [x_offset, x_offset + w_block]\n",
    "    y_range = [y_offset, y_offset + h_block]\n",
    "    return {'x_range': x_range, 'y_range': y_range, 'deficit': deficit}"
   ]
  },
  {
   "cell_type": "code",
   "execution_count": 7,
   "metadata": {
    "collapsed": true
   },
   "outputs": [],
   "source": [
    "def split_data_by_xy_ranges(dat, x_range, y_range):\n",
    "    data = dat.copy()\n",
    "    inner_data = data.loc[((data.x >= x_range[0])\n",
    "                           & (data.x <  x_range[1])\n",
    "                           & (data.y >= y_range[0])\n",
    "                           & (data.y <  y_range[1])), :]\n",
    "    outer_data = data.loc[((data.x <  x_range[0])\n",
    "                           | (data.x >= x_range[1])\n",
    "                           | (data.y <  y_range[0])\n",
    "                           | (data.y >= y_range[1])), :]\n",
    "    return inner_data, outer_data"
   ]
  },
  {
   "cell_type": "code",
   "execution_count": 8,
   "metadata": {
    "collapsed": true
   },
   "outputs": [],
   "source": [
    "def print_ranges(data):\n",
    "        print(' x range: [%s, %s]\\ty range: [%s, %s]'\n",
    "              % (data.x.min(), data.x.max(), data.y.min(), data.y.max()))"
   ]
  },
  {
   "cell_type": "code",
   "execution_count": 9,
   "metadata": {
    "collapsed": true
   },
   "outputs": [],
   "source": [
    "def print_data_split(X_train, y_train, X_valid, y_valid, X_test, y_test):\n",
    "    '''\n",
    "    Prints dimensions of train, validation, and test data and response \n",
    "    variables, neatly formatted.\n",
    "    \n",
    "    Args: (All): DataFrame: the raw data for each of the sets\n",
    "    Returns: None\n",
    "    '''\n",
    "    print('Data split into:\\n X_train: %s  y_train: %s'\n",
    "          % (X_train.shape, y_train.shape))\n",
    "    print_ranges(X_train)\n",
    "    print('\\n X_valid: %s  y_valid: %s' % (X_valid.shape, y_valid.shape))\n",
    "    print_ranges(X_valid)\n",
    "    print('\\n X_test:  %s  y_test:  %s' % (X_test.shape, y_test.shape))\n",
    "    print_ranges(X_test)"
   ]
  },
  {
   "cell_type": "code",
   "execution_count": 40,
   "metadata": {
    "collapsed": true
   },
   "outputs": [],
   "source": [
    "def split_predictors_response(dat, response):\n",
    "    data = dat.copy()\n",
    "    y = pd.DataFrame(data.loc[:, response])\n",
    "    X = data.drop(response, axis=1)\n",
    "    return X, y"
   ]
  },
  {
   "cell_type": "code",
   "execution_count": 41,
   "metadata": {
    "collapsed": false
   },
   "outputs": [],
   "source": [
    "def split_data_internal(dat, response, proportions, cell_dim):\n",
    "    '''\n",
    "    Not intended to be called directly; will be called by split_data().\n",
    "    See split_data() for documentation.\n",
    "    '''\n",
    "    data = dat.copy()\n",
    "    train, valid, test = proportions\n",
    "    n = data.shape[0]\n",
    "    n_train = int(round(n * proportions[0]))\n",
    "    n_valid = int(round(n * proportions[1]))\n",
    "    n_test = n - n_train - n_valid\n",
    "    data = convert_data_to_0_base(data, cell_dim)\n",
    "    test_valid_box = get_proportional_internal_block(\n",
    "        width=data.x.max(), height=data.y.max(), proportion=valid + test)\n",
    "    x_offset = test_valid_box['x_range'][0]\n",
    "    y_offset = test_valid_box['y_range'][0]\n",
    "    test_box = get_proportional_internal_block(\n",
    "        width=test_valid_box['x_range'][1] - test_valid_box['x_range'][0],\n",
    "        height=test_valid_box['y_range'][1] - test_valid_box['y_range'][0],\n",
    "        proportion=test / (test + valid))\n",
    "    test_box['x_range'] += x_offset\n",
    "    test_box['y_range'] += y_offset\n",
    "    test_set, tv_set = split_data_by_xy_ranges(\n",
    "        data, test_box['x_range'], test_box['y_range'])\n",
    "    valid_set, train_set = split_data_by_xy_ranges(\n",
    "        tv_set, test_valid_box['x_range'], test_valid_box['y_range'])\n",
    "    X_train, y_train = split_predictors_response(train_set, response)\n",
    "    X_valid, y_valid = split_predictors_response(valid_set, response)\n",
    "    X_test,  y_test  = split_predictors_response(test_set,  response)\n",
    "\n",
    "    #print_data_split(X_train, y_train, X_valid, y_valid, X_test, y_test)\n",
    "    return [[X_train, y_train], [X_valid, y_valid], [X_test, y_test]]"
   ]
  },
  {
   "cell_type": "code",
   "execution_count": 42,
   "metadata": {
    "collapsed": false
   },
   "outputs": [],
   "source": [
    "c = 0.62\n",
    "b = 0.22\n",
    "a = 1 - b - c\n",
    "\n",
    "split_data = split_data_internal(\n",
    "    dat, 'btl_t', np.array([a, b, c]), cell_dim=10000)"
   ]
  },
  {
   "cell_type": "code",
   "execution_count": 43,
   "metadata": {
    "collapsed": false
   },
   "outputs": [
    {
     "name": "stdout",
     "output_type": "stream",
     "text": [
      "Data split into:\n",
      " X_train: (194820, 39)  y_train: (194820, 1)\n",
      " x range: [204, 868]\ty range: [171, 727]\n",
      "\n",
      " X_valid: (41785, 39)  y_valid: (41785, 1)\n",
      " x range: [141, 986]\ty range: [72, 826]\n",
      "\n",
      " X_test:  (41305, 39)  y_test:  (41305, 1)\n",
      " x range: [0, 1073]\ty range: [0, 899]\n"
     ]
    }
   ],
   "source": [
    "[[X_test, y_test], [X_valid, y_valid], [X_train, y_train]] = split_data\n",
    "print_data_split(X_train, y_train, X_valid, y_valid, X_test, y_test)"
   ]
  },
  {
   "cell_type": "code",
   "execution_count": 44,
   "metadata": {
    "collapsed": false
   },
   "outputs": [
    {
     "data": {
      "text/plain": [
       "pandas.core.frame.DataFrame"
      ]
     },
     "execution_count": 44,
     "metadata": {},
     "output_type": "execute_result"
    }
   ],
   "source": [
    "type(y_train)"
   ]
  },
  {
   "cell_type": "code",
   "execution_count": 45,
   "metadata": {
    "collapsed": false
   },
   "outputs": [
    {
     "data": {
      "text/html": [
       "<div>\n",
       "<table border=\"1\" class=\"dataframe\">\n",
       "  <thead>\n",
       "    <tr style=\"text-align: right;\">\n",
       "      <th></th>\n",
       "      <th>x</th>\n",
       "      <th>y</th>\n",
       "      <th>lon</th>\n",
       "      <th>lat</th>\n",
       "      <th>etopo1</th>\n",
       "      <th>btl_t1</th>\n",
       "      <th>btl_t2</th>\n",
       "      <th>vgt</th>\n",
       "      <th>age</th>\n",
       "      <th>density</th>\n",
       "      <th>...</th>\n",
       "      <th>summerP2</th>\n",
       "      <th>Pmean</th>\n",
       "      <th>POctSep</th>\n",
       "      <th>PcumOctSep</th>\n",
       "      <th>PPT</th>\n",
       "      <th>drop0</th>\n",
       "      <th>drop5</th>\n",
       "      <th>ddAugJul</th>\n",
       "      <th>ddAugJun</th>\n",
       "      <th>year</th>\n",
       "    </tr>\n",
       "  </thead>\n",
       "  <tbody>\n",
       "    <tr>\n",
       "      <th>38558</th>\n",
       "      <td>461</td>\n",
       "      <td>171</td>\n",
       "      <td>-110.753897</td>\n",
       "      <td>23.897786</td>\n",
       "      <td>37</td>\n",
       "      <td>0</td>\n",
       "      <td>0</td>\n",
       "      <td>0</td>\n",
       "      <td>0</td>\n",
       "      <td>3897.362549</td>\n",
       "      <td>...</td>\n",
       "      <td>260.140003</td>\n",
       "      <td>27.302500</td>\n",
       "      <td>300.776673</td>\n",
       "      <td>671.006675</td>\n",
       "      <td>883.836676</td>\n",
       "      <td>43</td>\n",
       "      <td>46</td>\n",
       "      <td>8429.333008</td>\n",
       "      <td>7625.910156</td>\n",
       "      <td>1998</td>\n",
       "    </tr>\n",
       "    <tr>\n",
       "      <th>38559</th>\n",
       "      <td>462</td>\n",
       "      <td>171</td>\n",
       "      <td>-110.658523</td>\n",
       "      <td>23.909710</td>\n",
       "      <td>68</td>\n",
       "      <td>0</td>\n",
       "      <td>0</td>\n",
       "      <td>0</td>\n",
       "      <td>0</td>\n",
       "      <td>3513.256348</td>\n",
       "      <td>...</td>\n",
       "      <td>297.770211</td>\n",
       "      <td>28.710834</td>\n",
       "      <td>317.206631</td>\n",
       "      <td>697.693745</td>\n",
       "      <td>975.010218</td>\n",
       "      <td>43</td>\n",
       "      <td>46</td>\n",
       "      <td>8420.001953</td>\n",
       "      <td>7615.243652</td>\n",
       "      <td>1998</td>\n",
       "    </tr>\n",
       "    <tr>\n",
       "      <th>38560</th>\n",
       "      <td>463</td>\n",
       "      <td>171</td>\n",
       "      <td>-110.563132</td>\n",
       "      <td>23.921529</td>\n",
       "      <td>125</td>\n",
       "      <td>0</td>\n",
       "      <td>0</td>\n",
       "      <td>0</td>\n",
       "      <td>0</td>\n",
       "      <td>4133.384277</td>\n",
       "      <td>...</td>\n",
       "      <td>345.010408</td>\n",
       "      <td>31.867925</td>\n",
       "      <td>355.083390</td>\n",
       "      <td>791.117443</td>\n",
       "      <td>1135.790492</td>\n",
       "      <td>43</td>\n",
       "      <td>46</td>\n",
       "      <td>8361.196289</td>\n",
       "      <td>7555.813477</td>\n",
       "      <td>1998</td>\n",
       "    </tr>\n",
       "    <tr>\n",
       "      <th>38561</th>\n",
       "      <td>464</td>\n",
       "      <td>171</td>\n",
       "      <td>-110.467724</td>\n",
       "      <td>23.933242</td>\n",
       "      <td>174</td>\n",
       "      <td>0</td>\n",
       "      <td>0</td>\n",
       "      <td>0</td>\n",
       "      <td>0</td>\n",
       "      <td>3205.625244</td>\n",
       "      <td>...</td>\n",
       "      <td>380.352650</td>\n",
       "      <td>33.705774</td>\n",
       "      <td>378.878030</td>\n",
       "      <td>854.480301</td>\n",
       "      <td>1224.445529</td>\n",
       "      <td>43</td>\n",
       "      <td>46</td>\n",
       "      <td>8351.758789</td>\n",
       "      <td>7541.419922</td>\n",
       "      <td>1998</td>\n",
       "    </tr>\n",
       "    <tr>\n",
       "      <th>38562</th>\n",
       "      <td>465</td>\n",
       "      <td>171</td>\n",
       "      <td>-110.372299</td>\n",
       "      <td>23.944849</td>\n",
       "      <td>96</td>\n",
       "      <td>0</td>\n",
       "      <td>0</td>\n",
       "      <td>0</td>\n",
       "      <td>0</td>\n",
       "      <td>4849.293457</td>\n",
       "      <td>...</td>\n",
       "      <td>385.795531</td>\n",
       "      <td>33.724199</td>\n",
       "      <td>383.239286</td>\n",
       "      <td>876.431076</td>\n",
       "      <td>1211.507910</td>\n",
       "      <td>42</td>\n",
       "      <td>47</td>\n",
       "      <td>8430.083984</td>\n",
       "      <td>7608.864258</td>\n",
       "      <td>1998</td>\n",
       "    </tr>\n",
       "  </tbody>\n",
       "</table>\n",
       "<p>5 rows × 39 columns</p>\n",
       "</div>"
      ],
      "text/plain": [
       "         x    y         lon        lat  etopo1  btl_t1  btl_t2  vgt  age  \\\n",
       "38558  461  171 -110.753897  23.897786      37       0       0    0    0   \n",
       "38559  462  171 -110.658523  23.909710      68       0       0    0    0   \n",
       "38560  463  171 -110.563132  23.921529     125       0       0    0    0   \n",
       "38561  464  171 -110.467724  23.933242     174       0       0    0    0   \n",
       "38562  465  171 -110.372299  23.944849      96       0       0    0    0   \n",
       "\n",
       "           density  ...     summerP2      Pmean     POctSep  PcumOctSep  \\\n",
       "38558  3897.362549  ...   260.140003  27.302500  300.776673  671.006675   \n",
       "38559  3513.256348  ...   297.770211  28.710834  317.206631  697.693745   \n",
       "38560  4133.384277  ...   345.010408  31.867925  355.083390  791.117443   \n",
       "38561  3205.625244  ...   380.352650  33.705774  378.878030  854.480301   \n",
       "38562  4849.293457  ...   385.795531  33.724199  383.239286  876.431076   \n",
       "\n",
       "               PPT  drop0  drop5     ddAugJul     ddAugJun  year  \n",
       "38558   883.836676     43     46  8429.333008  7625.910156  1998  \n",
       "38559   975.010218     43     46  8420.001953  7615.243652  1998  \n",
       "38560  1135.790492     43     46  8361.196289  7555.813477  1998  \n",
       "38561  1224.445529     43     46  8351.758789  7541.419922  1998  \n",
       "38562  1211.507910     42     47  8430.083984  7608.864258  1998  \n",
       "\n",
       "[5 rows x 39 columns]"
      ]
     },
     "execution_count": 45,
     "metadata": {},
     "output_type": "execute_result"
    }
   ],
   "source": [
    "X_train.head()"
   ]
  },
  {
   "cell_type": "code",
   "execution_count": 47,
   "metadata": {
    "collapsed": false
   },
   "outputs": [
    {
     "data": {
      "text/html": [
       "<div>\n",
       "<table border=\"1\" class=\"dataframe\">\n",
       "  <thead>\n",
       "    <tr style=\"text-align: right;\">\n",
       "      <th></th>\n",
       "      <th>btl_t</th>\n",
       "    </tr>\n",
       "  </thead>\n",
       "  <tbody>\n",
       "    <tr>\n",
       "      <th>38558</th>\n",
       "      <td>0</td>\n",
       "    </tr>\n",
       "    <tr>\n",
       "      <th>38559</th>\n",
       "      <td>0</td>\n",
       "    </tr>\n",
       "    <tr>\n",
       "      <th>38560</th>\n",
       "      <td>0</td>\n",
       "    </tr>\n",
       "    <tr>\n",
       "      <th>38561</th>\n",
       "      <td>0</td>\n",
       "    </tr>\n",
       "    <tr>\n",
       "      <th>38562</th>\n",
       "      <td>0</td>\n",
       "    </tr>\n",
       "  </tbody>\n",
       "</table>\n",
       "</div>"
      ],
      "text/plain": [
       "       btl_t\n",
       "38558      0\n",
       "38559      0\n",
       "38560      0\n",
       "38561      0\n",
       "38562      0"
      ]
     },
     "execution_count": 47,
     "metadata": {},
     "output_type": "execute_result"
    }
   ],
   "source": [
    "y_train.head()"
   ]
  },
  {
   "cell_type": "code",
   "execution_count": 37,
   "metadata": {
    "collapsed": false
   },
   "outputs": [],
   "source": [
    "def save_files(year, split_data):\n",
    "    if not os.path.exists(OUTPUT_DIR):\n",
    "        os.mkdir(OUTPUT_DIR)\n",
    "    set_names = ['test', 'valid', 'train']\n",
    "    xy_names = ['X', 'y']\n",
    "    for data_set, set_name in zip(split_data, set_names):\n",
    "        for xy, xy_name in zip(data_set, xy_names):\n",
    "            path = '%s/%s_%s_%s.csv' % (OUTPUT_DIR, xy_name, set_name, year)\n",
    "            print('Writing data to ', path)\n",
    "            xy.to_csv(path, index=False)\n",
    "    return True"
   ]
  },
  {
   "cell_type": "code",
   "execution_count": 38,
   "metadata": {
    "collapsed": false
   },
   "outputs": [
    {
     "name": "stdout",
     "output_type": "stream",
     "text": [
      "('Writing data to ', '../DATA/Xy_internal_split_data/X_test_1998.csv')\n",
      "('Writing data to ', '../DATA/Xy_internal_split_data/y_test_1998.csv')\n",
      "('Writing data to ', '../DATA/Xy_internal_split_data/X_valid_1998.csv')\n",
      "('Writing data to ', '../DATA/Xy_internal_split_data/y_valid_1998.csv')\n",
      "('Writing data to ', '../DATA/Xy_internal_split_data/X_train_1998.csv')\n",
      "('Writing data to ', '../DATA/Xy_internal_split_data/y_train_1998.csv')\n"
     ]
    }
   ],
   "source": [
    "save_files(year, split_data)"
   ]
  },
  {
   "cell_type": "code",
   "execution_count": null,
   "metadata": {
    "collapsed": true
   },
   "outputs": [],
   "source": []
  }
 ],
 "metadata": {
  "kernelspec": {
   "display_name": "Python 2",
   "language": "python",
   "name": "python2"
  },
  "language_info": {
   "codemirror_mode": {
    "name": "ipython",
    "version": 2
   },
   "file_extension": ".py",
   "mimetype": "text/x-python",
   "name": "python",
   "nbconvert_exporter": "python",
   "pygments_lexer": "ipython2",
   "version": "2.7.12"
  }
 },
 "nbformat": 4,
 "nbformat_minor": 0
}
