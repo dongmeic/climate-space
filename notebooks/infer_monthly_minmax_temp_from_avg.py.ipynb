{
 "cells": [
  {
   "cell_type": "code",
   "execution_count": 1,
   "metadata": {
    "collapsed": true
   },
   "outputs": [],
   "source": [
    "import os\n",
    "\n",
    "import numpy as np\n",
    "import pandas as pd"
   ]
  },
  {
   "cell_type": "code",
   "execution_count": 2,
   "metadata": {
    "collapsed": true
   },
   "outputs": [],
   "source": [
    "# Relative path to data files\n",
    "DATA_DIR = '../data/'"
   ]
  },
  {
   "cell_type": "code",
   "execution_count": 3,
   "metadata": {
    "collapsed": false
   },
   "outputs": [
    {
     "data": {
      "text/plain": [
       "['elcampoTX_2007_2015.csv', 'eugeneOR_2007_2015.csv']"
      ]
     },
     "execution_count": 3,
     "metadata": {},
     "output_type": "execute_result"
    }
   ],
   "source": [
    "# List data files in DATA_DIR\n",
    "files = sorted(\n",
    "    [file for file in os.listdir(DATA_DIR) if file[-4:] == '.csv'])\n",
    "files"
   ]
  },
  {
   "cell_type": "code",
   "execution_count": 4,
   "metadata": {
    "collapsed": false
   },
   "outputs": [
    {
     "data": {
      "text/html": [
       "<div>\n",
       "<style>\n",
       "    .dataframe thead tr:only-child th {\n",
       "        text-align: right;\n",
       "    }\n",
       "\n",
       "    .dataframe thead th {\n",
       "        text-align: left;\n",
       "    }\n",
       "\n",
       "    .dataframe tbody tr th {\n",
       "        vertical-align: top;\n",
       "    }\n",
       "</style>\n",
       "<table border=\"1\" class=\"dataframe\">\n",
       "  <thead>\n",
       "    <tr style=\"text-align: right;\">\n",
       "      <th></th>\n",
       "      <th>STATION</th>\n",
       "      <th>NAME</th>\n",
       "      <th>LATITUDE</th>\n",
       "      <th>LONGITUDE</th>\n",
       "      <th>ELEVATION</th>\n",
       "      <th>DATE</th>\n",
       "      <th>PRCP</th>\n",
       "      <th>TMAX</th>\n",
       "      <th>TMIN</th>\n",
       "      <th>TOBS</th>\n",
       "    </tr>\n",
       "  </thead>\n",
       "  <tbody>\n",
       "    <tr>\n",
       "      <th>0</th>\n",
       "      <td>USC00412266</td>\n",
       "      <td>DANEVANG 1 W, TX US</td>\n",
       "      <td>29.0567</td>\n",
       "      <td>-96.2319</td>\n",
       "      <td>21.3</td>\n",
       "      <td>2007-01-01</td>\n",
       "      <td>0.00</td>\n",
       "      <td>63.0</td>\n",
       "      <td>37.0</td>\n",
       "      <td>37.0</td>\n",
       "    </tr>\n",
       "    <tr>\n",
       "      <th>1</th>\n",
       "      <td>USC00412266</td>\n",
       "      <td>DANEVANG 1 W, TX US</td>\n",
       "      <td>29.0567</td>\n",
       "      <td>-96.2319</td>\n",
       "      <td>21.3</td>\n",
       "      <td>2007-01-02</td>\n",
       "      <td>0.00</td>\n",
       "      <td>55.0</td>\n",
       "      <td>36.0</td>\n",
       "      <td>37.0</td>\n",
       "    </tr>\n",
       "    <tr>\n",
       "      <th>2</th>\n",
       "      <td>USC00412266</td>\n",
       "      <td>DANEVANG 1 W, TX US</td>\n",
       "      <td>29.0567</td>\n",
       "      <td>-96.2319</td>\n",
       "      <td>21.3</td>\n",
       "      <td>2007-01-03</td>\n",
       "      <td>0.00</td>\n",
       "      <td>55.0</td>\n",
       "      <td>37.0</td>\n",
       "      <td>47.0</td>\n",
       "    </tr>\n",
       "    <tr>\n",
       "      <th>3</th>\n",
       "      <td>USC00412266</td>\n",
       "      <td>DANEVANG 1 W, TX US</td>\n",
       "      <td>29.0567</td>\n",
       "      <td>-96.2319</td>\n",
       "      <td>21.3</td>\n",
       "      <td>2007-01-04</td>\n",
       "      <td>1.48</td>\n",
       "      <td>54.0</td>\n",
       "      <td>47.0</td>\n",
       "      <td>49.0</td>\n",
       "    </tr>\n",
       "    <tr>\n",
       "      <th>4</th>\n",
       "      <td>USC00412266</td>\n",
       "      <td>DANEVANG 1 W, TX US</td>\n",
       "      <td>29.0567</td>\n",
       "      <td>-96.2319</td>\n",
       "      <td>21.3</td>\n",
       "      <td>2007-01-05</td>\n",
       "      <td>0.05</td>\n",
       "      <td>57.0</td>\n",
       "      <td>46.0</td>\n",
       "      <td>55.0</td>\n",
       "    </tr>\n",
       "  </tbody>\n",
       "</table>\n",
       "</div>"
      ],
      "text/plain": [
       "       STATION                 NAME  LATITUDE  LONGITUDE  ELEVATION  \\\n",
       "0  USC00412266  DANEVANG 1 W, TX US   29.0567   -96.2319       21.3   \n",
       "1  USC00412266  DANEVANG 1 W, TX US   29.0567   -96.2319       21.3   \n",
       "2  USC00412266  DANEVANG 1 W, TX US   29.0567   -96.2319       21.3   \n",
       "3  USC00412266  DANEVANG 1 W, TX US   29.0567   -96.2319       21.3   \n",
       "4  USC00412266  DANEVANG 1 W, TX US   29.0567   -96.2319       21.3   \n",
       "\n",
       "        DATE  PRCP  TMAX  TMIN  TOBS  \n",
       "0 2007-01-01  0.00  63.0  37.0  37.0  \n",
       "1 2007-01-02  0.00  55.0  36.0  37.0  \n",
       "2 2007-01-03  0.00  55.0  37.0  47.0  \n",
       "3 2007-01-04  1.48  54.0  47.0  49.0  \n",
       "4 2007-01-05  0.05  57.0  46.0  55.0  "
      ]
     },
     "execution_count": 4,
     "metadata": {},
     "output_type": "execute_result"
    }
   ],
   "source": [
    "# Read data\n",
    "data_daily = pd.read_csv(DATA_DIR + files[0])\n",
    "\n",
    "# Convert DATE to datetime (instead of string)\n",
    "data_daily['DATE']= pd.to_datetime(data_daily['DATE'])\n",
    "data_daily.head()"
   ]
  },
  {
   "cell_type": "code",
   "execution_count": 5,
   "metadata": {
    "collapsed": false
   },
   "outputs": [
    {
     "data": {
      "text/html": [
       "<div>\n",
       "<style>\n",
       "    .dataframe thead tr:only-child th {\n",
       "        text-align: right;\n",
       "    }\n",
       "\n",
       "    .dataframe thead th {\n",
       "        text-align: left;\n",
       "    }\n",
       "\n",
       "    .dataframe tbody tr th {\n",
       "        vertical-align: top;\n",
       "    }\n",
       "</style>\n",
       "<table border=\"1\" class=\"dataframe\">\n",
       "  <thead>\n",
       "    <tr style=\"text-align: right;\">\n",
       "      <th></th>\n",
       "      <th>STATION</th>\n",
       "      <th>NAME</th>\n",
       "      <th>LATITUDE</th>\n",
       "      <th>LONGITUDE</th>\n",
       "      <th>ELEVATION</th>\n",
       "      <th>DATE</th>\n",
       "      <th>PRCP</th>\n",
       "      <th>TMAX</th>\n",
       "      <th>TMIN</th>\n",
       "      <th>TOBS</th>\n",
       "      <th>YEAR</th>\n",
       "      <th>MONTH</th>\n",
       "    </tr>\n",
       "  </thead>\n",
       "  <tbody>\n",
       "    <tr>\n",
       "      <th>0</th>\n",
       "      <td>USC00412266</td>\n",
       "      <td>DANEVANG 1 W, TX US</td>\n",
       "      <td>29.0567</td>\n",
       "      <td>-96.2319</td>\n",
       "      <td>21.3</td>\n",
       "      <td>2007-01-01</td>\n",
       "      <td>0.00</td>\n",
       "      <td>63.0</td>\n",
       "      <td>37.0</td>\n",
       "      <td>37.0</td>\n",
       "      <td>2007</td>\n",
       "      <td>1</td>\n",
       "    </tr>\n",
       "    <tr>\n",
       "      <th>1</th>\n",
       "      <td>USC00412266</td>\n",
       "      <td>DANEVANG 1 W, TX US</td>\n",
       "      <td>29.0567</td>\n",
       "      <td>-96.2319</td>\n",
       "      <td>21.3</td>\n",
       "      <td>2007-01-02</td>\n",
       "      <td>0.00</td>\n",
       "      <td>55.0</td>\n",
       "      <td>36.0</td>\n",
       "      <td>37.0</td>\n",
       "      <td>2007</td>\n",
       "      <td>1</td>\n",
       "    </tr>\n",
       "    <tr>\n",
       "      <th>2</th>\n",
       "      <td>USC00412266</td>\n",
       "      <td>DANEVANG 1 W, TX US</td>\n",
       "      <td>29.0567</td>\n",
       "      <td>-96.2319</td>\n",
       "      <td>21.3</td>\n",
       "      <td>2007-01-03</td>\n",
       "      <td>0.00</td>\n",
       "      <td>55.0</td>\n",
       "      <td>37.0</td>\n",
       "      <td>47.0</td>\n",
       "      <td>2007</td>\n",
       "      <td>1</td>\n",
       "    </tr>\n",
       "    <tr>\n",
       "      <th>3</th>\n",
       "      <td>USC00412266</td>\n",
       "      <td>DANEVANG 1 W, TX US</td>\n",
       "      <td>29.0567</td>\n",
       "      <td>-96.2319</td>\n",
       "      <td>21.3</td>\n",
       "      <td>2007-01-04</td>\n",
       "      <td>1.48</td>\n",
       "      <td>54.0</td>\n",
       "      <td>47.0</td>\n",
       "      <td>49.0</td>\n",
       "      <td>2007</td>\n",
       "      <td>1</td>\n",
       "    </tr>\n",
       "    <tr>\n",
       "      <th>4</th>\n",
       "      <td>USC00412266</td>\n",
       "      <td>DANEVANG 1 W, TX US</td>\n",
       "      <td>29.0567</td>\n",
       "      <td>-96.2319</td>\n",
       "      <td>21.3</td>\n",
       "      <td>2007-01-05</td>\n",
       "      <td>0.05</td>\n",
       "      <td>57.0</td>\n",
       "      <td>46.0</td>\n",
       "      <td>55.0</td>\n",
       "      <td>2007</td>\n",
       "      <td>1</td>\n",
       "    </tr>\n",
       "  </tbody>\n",
       "</table>\n",
       "</div>"
      ],
      "text/plain": [
       "       STATION                 NAME  LATITUDE  LONGITUDE  ELEVATION  \\\n",
       "0  USC00412266  DANEVANG 1 W, TX US   29.0567   -96.2319       21.3   \n",
       "1  USC00412266  DANEVANG 1 W, TX US   29.0567   -96.2319       21.3   \n",
       "2  USC00412266  DANEVANG 1 W, TX US   29.0567   -96.2319       21.3   \n",
       "3  USC00412266  DANEVANG 1 W, TX US   29.0567   -96.2319       21.3   \n",
       "4  USC00412266  DANEVANG 1 W, TX US   29.0567   -96.2319       21.3   \n",
       "\n",
       "        DATE  PRCP  TMAX  TMIN  TOBS  YEAR  MONTH  \n",
       "0 2007-01-01  0.00  63.0  37.0  37.0  2007      1  \n",
       "1 2007-01-02  0.00  55.0  36.0  37.0  2007      1  \n",
       "2 2007-01-03  0.00  55.0  37.0  47.0  2007      1  \n",
       "3 2007-01-04  1.48  54.0  47.0  49.0  2007      1  \n",
       "4 2007-01-05  0.05  57.0  46.0  55.0  2007      1  "
      ]
     },
     "execution_count": 5,
     "metadata": {},
     "output_type": "execute_result"
    }
   ],
   "source": [
    "# Extract YEAR and MONTH from DATE\n",
    "data_daily['YEAR'] = data_daily.DATE.apply(lambda x: x.year)\n",
    "data_daily['MONTH'] = data_daily.DATE.apply(lambda x: x.month)\n",
    "data_daily.head()"
   ]
  },
  {
   "cell_type": "code",
   "execution_count": 6,
   "metadata": {
    "collapsed": false
   },
   "outputs": [
    {
     "data": {
      "text/html": [
       "<div>\n",
       "<style>\n",
       "    .dataframe thead tr:only-child th {\n",
       "        text-align: right;\n",
       "    }\n",
       "\n",
       "    .dataframe thead th {\n",
       "        text-align: left;\n",
       "    }\n",
       "\n",
       "    .dataframe tbody tr th {\n",
       "        vertical-align: top;\n",
       "    }\n",
       "</style>\n",
       "<table border=\"1\" class=\"dataframe\">\n",
       "  <thead>\n",
       "    <tr style=\"text-align: right;\">\n",
       "      <th></th>\n",
       "      <th></th>\n",
       "      <th>PRCP</th>\n",
       "      <th>TOBS</th>\n",
       "      <th>TMAX</th>\n",
       "      <th>TMIN</th>\n",
       "    </tr>\n",
       "    <tr>\n",
       "      <th>YEAR</th>\n",
       "      <th>MONTH</th>\n",
       "      <th></th>\n",
       "      <th></th>\n",
       "      <th></th>\n",
       "      <th></th>\n",
       "    </tr>\n",
       "  </thead>\n",
       "  <tbody>\n",
       "    <tr>\n",
       "      <th rowspan=\"5\" valign=\"top\">2007</th>\n",
       "      <th>1</th>\n",
       "      <td>28.20</td>\n",
       "      <td>45.565789</td>\n",
       "      <td>78.0</td>\n",
       "      <td>26.0</td>\n",
       "    </tr>\n",
       "    <tr>\n",
       "      <th>2</th>\n",
       "      <td>1.57</td>\n",
       "      <td>50.666667</td>\n",
       "      <td>84.0</td>\n",
       "      <td>23.0</td>\n",
       "    </tr>\n",
       "    <tr>\n",
       "      <th>3</th>\n",
       "      <td>17.97</td>\n",
       "      <td>61.171053</td>\n",
       "      <td>91.0</td>\n",
       "      <td>30.0</td>\n",
       "    </tr>\n",
       "    <tr>\n",
       "      <th>4</th>\n",
       "      <td>17.50</td>\n",
       "      <td>62.197368</td>\n",
       "      <td>89.0</td>\n",
       "      <td>36.0</td>\n",
       "    </tr>\n",
       "    <tr>\n",
       "      <th>5</th>\n",
       "      <td>18.86</td>\n",
       "      <td>69.951220</td>\n",
       "      <td>96.0</td>\n",
       "      <td>56.0</td>\n",
       "    </tr>\n",
       "  </tbody>\n",
       "</table>\n",
       "</div>"
      ],
      "text/plain": [
       "             PRCP       TOBS  TMAX  TMIN\n",
       "YEAR MONTH                              \n",
       "2007 1      28.20  45.565789  78.0  26.0\n",
       "     2       1.57  50.666667  84.0  23.0\n",
       "     3      17.97  61.171053  91.0  30.0\n",
       "     4      17.50  62.197368  89.0  36.0\n",
       "     5      18.86  69.951220  96.0  56.0"
      ]
     },
     "execution_count": 6,
     "metadata": {},
     "output_type": "execute_result"
    }
   ],
   "source": [
    "# Aggregate by month: get total monthly precipitation, and monthly \n",
    "# avg, min, and max temps\n",
    "data_monthly = data_daily.groupby(['YEAR', 'MONTH'])\\\n",
    "    .agg({'PRCP': sum, 'TOBS': np.mean, 'TMAX': max, 'TMIN': min})\n",
    "data_monthly.head()"
   ]
  },
  {
   "cell_type": "markdown",
   "metadata": {},
   "source": [
    "Combine the above into a function:"
   ]
  },
  {
   "cell_type": "code",
   "execution_count": 7,
   "metadata": {
    "collapsed": false
   },
   "outputs": [],
   "source": [
    "def aggregate_daily_file_to_monthly(filepath):\n",
    "    data_daily = pd.read_csv(filepath)\n",
    "    if 'TOBS' not in list(data_daily):\n",
    "        try:\n",
    "            data_daily = data_daily.rename(columns={'TAVG': 'TOBS'})\n",
    "        except KeyError:\n",
    "            print('Neither \"TOBS\" nor \"TAVG\" found in data set.')\n",
    "            return None\n",
    "    data_daily['DATE']= pd.to_datetime(data_daily['DATE'])\n",
    "    data_daily['YEAR'] = data_daily.DATE.apply(lambda x: x.year)\n",
    "    data_daily['MONTH'] = data_daily.DATE.apply(lambda x: x.month)\n",
    "    data_monthly = data_daily.groupby(['YEAR', 'MONTH'])\\\n",
    "        .agg({'YEAR': min, \n",
    "              'MONTH': min,\n",
    "              'PRCP': sum, \n",
    "              'TOBS': np.mean, \n",
    "              'TMAX': max, \n",
    "              'TMIN': min})\n",
    "    return data_monthly.reset_index(drop=True)"
   ]
  },
  {
   "cell_type": "code",
   "execution_count": 8,
   "metadata": {
    "collapsed": false
   },
   "outputs": [
    {
     "data": {
      "text/plain": [
       "['elcampoTX_2007_2015.csv', 'eugeneOR_2007_2015.csv']"
      ]
     },
     "execution_count": 8,
     "metadata": {},
     "output_type": "execute_result"
    }
   ],
   "source": [
    "files"
   ]
  },
  {
   "cell_type": "code",
   "execution_count": 9,
   "metadata": {
    "collapsed": false
   },
   "outputs": [
    {
     "name": "stdout",
     "output_type": "stream",
     "text": [
      "Aggregating data for elcampoTX_2007_2015.csv...\t\t\n",
      "Aggregating data for eugeneOR_2007_2015.csv...\t\t\n"
     ]
    }
   ],
   "source": [
    "aggregate_files = []\n",
    "for file in files:\n",
    "    print('Aggregating data for %s...\\t\\t' % file)\n",
    "    aggregate_files.append(\n",
    "        aggregate_daily_file_to_monthly(DATA_DIR + file))"
   ]
  },
  {
   "cell_type": "code",
   "execution_count": 10,
   "metadata": {
    "collapsed": false
   },
   "outputs": [
    {
     "name": "stdout",
     "output_type": "stream",
     "text": [
      "elcampoTX\n",
      "(108, 6)\n"
     ]
    },
    {
     "data": {
      "text/html": [
       "<div>\n",
       "<style>\n",
       "    .dataframe thead tr:only-child th {\n",
       "        text-align: right;\n",
       "    }\n",
       "\n",
       "    .dataframe thead th {\n",
       "        text-align: left;\n",
       "    }\n",
       "\n",
       "    .dataframe tbody tr th {\n",
       "        vertical-align: top;\n",
       "    }\n",
       "</style>\n",
       "<table border=\"1\" class=\"dataframe\">\n",
       "  <thead>\n",
       "    <tr style=\"text-align: right;\">\n",
       "      <th></th>\n",
       "      <th>YEAR</th>\n",
       "      <th>MONTH</th>\n",
       "      <th>PRCP</th>\n",
       "      <th>TOBS</th>\n",
       "      <th>TMAX</th>\n",
       "      <th>TMIN</th>\n",
       "    </tr>\n",
       "  </thead>\n",
       "  <tbody>\n",
       "    <tr>\n",
       "      <th>0</th>\n",
       "      <td>2007</td>\n",
       "      <td>1</td>\n",
       "      <td>28.20</td>\n",
       "      <td>45.565789</td>\n",
       "      <td>78.0</td>\n",
       "      <td>26.0</td>\n",
       "    </tr>\n",
       "    <tr>\n",
       "      <th>1</th>\n",
       "      <td>2007</td>\n",
       "      <td>2</td>\n",
       "      <td>1.57</td>\n",
       "      <td>50.666667</td>\n",
       "      <td>84.0</td>\n",
       "      <td>23.0</td>\n",
       "    </tr>\n",
       "    <tr>\n",
       "      <th>2</th>\n",
       "      <td>2007</td>\n",
       "      <td>3</td>\n",
       "      <td>17.97</td>\n",
       "      <td>61.171053</td>\n",
       "      <td>91.0</td>\n",
       "      <td>30.0</td>\n",
       "    </tr>\n",
       "    <tr>\n",
       "      <th>3</th>\n",
       "      <td>2007</td>\n",
       "      <td>4</td>\n",
       "      <td>17.50</td>\n",
       "      <td>62.197368</td>\n",
       "      <td>89.0</td>\n",
       "      <td>36.0</td>\n",
       "    </tr>\n",
       "    <tr>\n",
       "      <th>4</th>\n",
       "      <td>2007</td>\n",
       "      <td>5</td>\n",
       "      <td>18.86</td>\n",
       "      <td>69.951220</td>\n",
       "      <td>96.0</td>\n",
       "      <td>56.0</td>\n",
       "    </tr>\n",
       "  </tbody>\n",
       "</table>\n",
       "</div>"
      ],
      "text/plain": [
       "   YEAR  MONTH   PRCP       TOBS  TMAX  TMIN\n",
       "0  2007      1  28.20  45.565789  78.0  26.0\n",
       "1  2007      2   1.57  50.666667  84.0  23.0\n",
       "2  2007      3  17.97  61.171053  91.0  30.0\n",
       "3  2007      4  17.50  62.197368  89.0  36.0\n",
       "4  2007      5  18.86  69.951220  96.0  56.0"
      ]
     },
     "execution_count": 10,
     "metadata": {},
     "output_type": "execute_result"
    }
   ],
   "source": [
    "print(files[0].split('_')[0])\n",
    "print(aggregate_files[0].shape)\n",
    "aggregate_files[0].head()"
   ]
  },
  {
   "cell_type": "code",
   "execution_count": 11,
   "metadata": {
    "collapsed": false
   },
   "outputs": [
    {
     "name": "stdout",
     "output_type": "stream",
     "text": [
      "eugeneOR\n",
      "(108, 6)\n"
     ]
    },
    {
     "data": {
      "text/html": [
       "<div>\n",
       "<style>\n",
       "    .dataframe thead tr:only-child th {\n",
       "        text-align: right;\n",
       "    }\n",
       "\n",
       "    .dataframe thead th {\n",
       "        text-align: left;\n",
       "    }\n",
       "\n",
       "    .dataframe tbody tr th {\n",
       "        vertical-align: top;\n",
       "    }\n",
       "</style>\n",
       "<table border=\"1\" class=\"dataframe\">\n",
       "  <thead>\n",
       "    <tr style=\"text-align: right;\">\n",
       "      <th></th>\n",
       "      <th>YEAR</th>\n",
       "      <th>MONTH</th>\n",
       "      <th>PRCP</th>\n",
       "      <th>TOBS</th>\n",
       "      <th>TMAX</th>\n",
       "      <th>TMIN</th>\n",
       "    </tr>\n",
       "  </thead>\n",
       "  <tbody>\n",
       "    <tr>\n",
       "      <th>0</th>\n",
       "      <td>2007</td>\n",
       "      <td>1</td>\n",
       "      <td>4.88</td>\n",
       "      <td>NaN</td>\n",
       "      <td>59.0</td>\n",
       "      <td>10.0</td>\n",
       "    </tr>\n",
       "    <tr>\n",
       "      <th>1</th>\n",
       "      <td>2007</td>\n",
       "      <td>2</td>\n",
       "      <td>7.37</td>\n",
       "      <td>NaN</td>\n",
       "      <td>68.0</td>\n",
       "      <td>14.0</td>\n",
       "    </tr>\n",
       "    <tr>\n",
       "      <th>2</th>\n",
       "      <td>2007</td>\n",
       "      <td>3</td>\n",
       "      <td>3.00</td>\n",
       "      <td>NaN</td>\n",
       "      <td>76.0</td>\n",
       "      <td>22.0</td>\n",
       "    </tr>\n",
       "    <tr>\n",
       "      <th>3</th>\n",
       "      <td>2007</td>\n",
       "      <td>4</td>\n",
       "      <td>2.99</td>\n",
       "      <td>NaN</td>\n",
       "      <td>79.0</td>\n",
       "      <td>24.0</td>\n",
       "    </tr>\n",
       "    <tr>\n",
       "      <th>4</th>\n",
       "      <td>2007</td>\n",
       "      <td>5</td>\n",
       "      <td>2.67</td>\n",
       "      <td>NaN</td>\n",
       "      <td>88.0</td>\n",
       "      <td>27.0</td>\n",
       "    </tr>\n",
       "  </tbody>\n",
       "</table>\n",
       "</div>"
      ],
      "text/plain": [
       "   YEAR  MONTH  PRCP  TOBS  TMAX  TMIN\n",
       "0  2007      1  4.88   NaN  59.0  10.0\n",
       "1  2007      2  7.37   NaN  68.0  14.0\n",
       "2  2007      3  3.00   NaN  76.0  22.0\n",
       "3  2007      4  2.99   NaN  79.0  24.0\n",
       "4  2007      5  2.67   NaN  88.0  27.0"
      ]
     },
     "execution_count": 11,
     "metadata": {},
     "output_type": "execute_result"
    }
   ],
   "source": [
    "print(files[1].split('_')[0])\n",
    "print(aggregate_files[1].shape)\n",
    "aggregate_files[1].head()"
   ]
  },
  {
   "cell_type": "code",
   "execution_count": 12,
   "metadata": {
    "collapsed": true
   },
   "outputs": [],
   "source": [
    "# Merge into a single data set\n",
    "merged = aggregate_files.pop()"
   ]
  },
  {
   "cell_type": "code",
   "execution_count": 13,
   "metadata": {
    "collapsed": false
   },
   "outputs": [],
   "source": [
    "while len(aggregate_files):\n",
    "    next_file = aggregate_files.pop()\n",
    "    merged = merged.append(next_file)"
   ]
  },
  {
   "cell_type": "code",
   "execution_count": 14,
   "metadata": {
    "collapsed": false
   },
   "outputs": [
    {
     "name": "stdout",
     "output_type": "stream",
     "text": [
      "(216, 6)\n"
     ]
    },
    {
     "data": {
      "text/html": [
       "<div>\n",
       "<style>\n",
       "    .dataframe thead tr:only-child th {\n",
       "        text-align: right;\n",
       "    }\n",
       "\n",
       "    .dataframe thead th {\n",
       "        text-align: left;\n",
       "    }\n",
       "\n",
       "    .dataframe tbody tr th {\n",
       "        vertical-align: top;\n",
       "    }\n",
       "</style>\n",
       "<table border=\"1\" class=\"dataframe\">\n",
       "  <thead>\n",
       "    <tr style=\"text-align: right;\">\n",
       "      <th></th>\n",
       "      <th>YEAR</th>\n",
       "      <th>MONTH</th>\n",
       "      <th>PRCP</th>\n",
       "      <th>TOBS</th>\n",
       "      <th>TMAX</th>\n",
       "      <th>TMIN</th>\n",
       "    </tr>\n",
       "  </thead>\n",
       "  <tbody>\n",
       "    <tr>\n",
       "      <th>0</th>\n",
       "      <td>2007</td>\n",
       "      <td>1</td>\n",
       "      <td>4.88</td>\n",
       "      <td>NaN</td>\n",
       "      <td>59.0</td>\n",
       "      <td>10.0</td>\n",
       "    </tr>\n",
       "    <tr>\n",
       "      <th>1</th>\n",
       "      <td>2007</td>\n",
       "      <td>2</td>\n",
       "      <td>7.37</td>\n",
       "      <td>NaN</td>\n",
       "      <td>68.0</td>\n",
       "      <td>14.0</td>\n",
       "    </tr>\n",
       "    <tr>\n",
       "      <th>2</th>\n",
       "      <td>2007</td>\n",
       "      <td>3</td>\n",
       "      <td>3.00</td>\n",
       "      <td>NaN</td>\n",
       "      <td>76.0</td>\n",
       "      <td>22.0</td>\n",
       "    </tr>\n",
       "    <tr>\n",
       "      <th>3</th>\n",
       "      <td>2007</td>\n",
       "      <td>4</td>\n",
       "      <td>2.99</td>\n",
       "      <td>NaN</td>\n",
       "      <td>79.0</td>\n",
       "      <td>24.0</td>\n",
       "    </tr>\n",
       "    <tr>\n",
       "      <th>4</th>\n",
       "      <td>2007</td>\n",
       "      <td>5</td>\n",
       "      <td>2.67</td>\n",
       "      <td>NaN</td>\n",
       "      <td>88.0</td>\n",
       "      <td>27.0</td>\n",
       "    </tr>\n",
       "  </tbody>\n",
       "</table>\n",
       "</div>"
      ],
      "text/plain": [
       "   YEAR  MONTH  PRCP  TOBS  TMAX  TMIN\n",
       "0  2007      1  4.88   NaN  59.0  10.0\n",
       "1  2007      2  7.37   NaN  68.0  14.0\n",
       "2  2007      3  3.00   NaN  76.0  22.0\n",
       "3  2007      4  2.99   NaN  79.0  24.0\n",
       "4  2007      5  2.67   NaN  88.0  27.0"
      ]
     },
     "execution_count": 14,
     "metadata": {},
     "output_type": "execute_result"
    }
   ],
   "source": [
    "print(merged.shape)\n",
    "merged.head()"
   ]
  },
  {
   "cell_type": "code",
   "execution_count": 16,
   "metadata": {
    "collapsed": false
   },
   "outputs": [],
   "source": [
    "# Write combined data back to .csv\n",
    "merged.to_csv(DATA_DIR + 'merged_%d_sites.csv' % len(files), index=False)"
   ]
  },
  {
   "cell_type": "code",
   "execution_count": 17,
   "metadata": {
    "collapsed": false
   },
   "outputs": [
    {
     "name": "stdout",
     "output_type": "stream",
     "text": [
      "elcampoTX_2007_2015.csv eugeneOR_2007_2015.csv  merged_2_sites.csv\r\n"
     ]
    }
   ],
   "source": [
    "!ls $DATA_DIR"
   ]
  },
  {
   "cell_type": "code",
   "execution_count": null,
   "metadata": {
    "collapsed": true
   },
   "outputs": [],
   "source": []
  }
 ],
 "metadata": {
  "kernelspec": {
   "display_name": "Python 3",
   "language": "python",
   "name": "python3"
  },
  "language_info": {
   "codemirror_mode": {
    "name": "ipython",
    "version": 3
   },
   "file_extension": ".py",
   "mimetype": "text/x-python",
   "name": "python",
   "nbconvert_exporter": "python",
   "pygments_lexer": "ipython3",
   "version": "3.6.1"
  }
 },
 "nbformat": 4,
 "nbformat_minor": 0
}
